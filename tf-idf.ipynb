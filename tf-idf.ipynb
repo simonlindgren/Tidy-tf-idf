{
 "cells": [
  {
   "cell_type": "markdown",
   "metadata": {},
   "source": [
    "# tf-idf\n",
    "\n",
    "This notebook was posted by Simon Lindgren // [@simonlindgren](http://www.twitter.com/simonlindgren) // [simonlindgren.com](http://simonlindgren.com)\n",
    "\n",
    "The following code and tutorial is about using the statistic tf-idf for distinguishing important words in a text from words that are simply commonly used. It draws heavily on the excellent book [Text Mining With R](http://tidytextmining.com/) by the creators of the `tidytext` package, [Julia Silge](https://twitter.com/juliasilge) and [David Robinson](http://varianceexplained.org)."
   ]
  },
  {
   "cell_type": "markdown",
   "metadata": {},
   "source": [
    "A term’s inverse document frequency (idf) decreases the weight for commonly used words and increases the weight for words that are not used very much in a collection of documents. \n",
    "\n",
    "This can be combined with term frequency (tf) to calculate a term’s tf-idf (the two quantities multiplied together), the frequency of a term adjusted for how rarely it is used.\n",
    "\n",
    "The statistic tf-idf is intended to measure how important a word is to a document in a collection (or corpus) of documents, for example, to one novel in a collection of novels or to one website in a collection of websites."
   ]
  },
  {
   "cell_type": "code",
   "execution_count": null,
   "metadata": {
    "collapsed": true
   },
   "outputs": [],
   "source": [
    "library(tidyverse)\n",
    "library(tidytext)"
   ]
  },
  {
   "cell_type": "markdown",
   "metadata": {},
   "source": [
    "##### Read documents\n",
    "The code below is based on what was done in [another notebook](https://github.com/simonlindgren/Tidy-Text-first-steps/blob/master/Tidy%2Btext%2Bfirst%2Bsteps.ipynb). It reads a `csv` file into a tidy dataset."
   ]
  },
  {
   "cell_type": "code",
   "execution_count": null,
   "metadata": {
    "collapsed": true
   },
   "outputs": [],
   "source": [
    "documents <- read_csv2(\"tidyraw2.csv\")\n",
    "tidy_documents <- documents %>%\n",
    "    unnest_tokens(word,text)\n",
    "    #unnest_tokens(ngram, text, token = \"ngrams\", n = 2)\n",
    "data(stop_words)\n",
    "tidy_documents <- anti_join(tidy_documents, stop_words, by=\"word\")\n",
    "my_stop_words <- read_csv2(\"swestop.csv\")\n",
    "tidy_documents <- anti_join(tidy_documents, my_stop_words, by=\"word\")"
   ]
  },
  {
   "cell_type": "code",
   "execution_count": null,
   "metadata": {},
   "outputs": [],
   "source": [
    "# Inspect the dataframe\n",
    "tidy_documents"
   ]
  },
  {
   "cell_type": "markdown",
   "metadata": {},
   "source": [
    "##### What are the most commonly used words?\n",
    "By each `blogger`."
   ]
  },
  {
   "cell_type": "code",
   "execution_count": null,
   "metadata": {},
   "outputs": [],
   "source": [
    "document_words <- tidy_documents %>%\n",
    "    group_by(blogger) %>%\n",
    "    count(blogger, word, sort = TRUE) %>%\n",
    "    ungroup()\n",
    "document_words"
   ]
  },
  {
   "cell_type": "code",
   "execution_count": null,
   "metadata": {},
   "outputs": [],
   "source": [
    "# Also, what are the total words for each blogger?\n",
    "total_words <- document_words %>% \n",
    "  group_by(blogger) %>% \n",
    "  summarize(total = sum(n))\n",
    "total_words\n",
    "\n",
    "document_words <- left_join(document_words, total_words)"
   ]
  },
  {
   "cell_type": "markdown",
   "metadata": {},
   "source": [
    "###### TF-IDF\n",
    "The `bind_tf_idf` function in the tidytext package takes a tidy text dataset as input with one row per token (term), per document. One column (`word` here) contains the terms/tokens, one column contains the documents (`blogger` in this case), and the last necessary column contains the counts, how many times each document contains each term (`n` in this example). \n",
    "\n",
    "We use `bind_tf_idf` to calculate TF-IDF:"
   ]
  },
  {
   "cell_type": "code",
   "execution_count": null,
   "metadata": {},
   "outputs": [],
   "source": [
    "document_words <- document_words %>%\n",
    "  bind_tf_idf(word, blogger, n)\n",
    "document_words"
   ]
  },
  {
   "cell_type": "markdown",
   "metadata": {},
   "source": [
    "Let's look at terms with high TF-IDF."
   ]
  },
  {
   "cell_type": "code",
   "execution_count": null,
   "metadata": {},
   "outputs": [],
   "source": [
    "tf_idf_dataframe <- document_words %>%\n",
    "    select(-total) %>%\n",
    "    arrange(desc(tf_idf))\n",
    "\n",
    "tf_idf_dataframe"
   ]
  },
  {
   "cell_type": "markdown",
   "metadata": {},
   "source": [
    "Now, let's visualise the high tf-idf words."
   ]
  },
  {
   "cell_type": "code",
   "execution_count": null,
   "metadata": {
    "collapsed": true
   },
   "outputs": [],
   "source": [
    "my_plot <- document_words %>%\n",
    "    arrange(desc(tf_idf)) %>%\n",
    "    mutate(word = factor(word, levels = rev(unique(word)))) \n",
    "\n",
    "my_plot %>%\n",
    "    top_n(10) %>%\n",
    "    ggplot(aes(word, tf_idf, fill = blogger)) +\n",
    "    geom_col() +\n",
    "    labs(x = NULL, y = \"tf-idf\") +\n",
    "    coord_flip()"
   ]
  },
  {
   "cell_type": "markdown",
   "metadata": {},
   "source": [
    "Now, we look at blogs individually:"
   ]
  },
  {
   "cell_type": "code",
   "execution_count": null,
   "metadata": {
    "collapsed": true
   },
   "outputs": [],
   "source": [
    "my_plot %>% \n",
    "  group_by(blogger) %>% \n",
    "  top_n(5) %>% \n",
    "  ungroup %>%\n",
    "  ggplot(aes(word, tf_idf, fill = blogger)) +\n",
    "  geom_col(show.legend = FALSE) +\n",
    "  labs(x = NULL, y = \"tf-idf\") +\n",
    "  facet_wrap(~blogger, ncol = 2, scales = \"free\") +\n",
    "  coord_flip()"
   ]
  }
 ],
 "metadata": {
  "kernelspec": {
   "display_name": "R",
   "language": "R",
   "name": "ir"
  },
  "language_info": {
   "codemirror_mode": "r",
   "file_extension": ".r",
   "mimetype": "text/x-r-source",
   "name": "R",
   "pygments_lexer": "r",
   "version": "3.3.2"
  }
 },
 "nbformat": 4,
 "nbformat_minor": 2
}
